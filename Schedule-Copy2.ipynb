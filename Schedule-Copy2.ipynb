{
 "cells": [
  {
   "cell_type": "markdown",
   "metadata": {},
   "source": [
    "# Author: Richard Martin\n",
    "### Date: 8th July 2018\n",
    "## Module: Fast Food Test\n",
    "### Aim: write a program to help organise people's orders and sequence what I should be doing"
   ]
  },
  {
   "cell_type": "markdown",
   "metadata": {},
   "source": [
    "## PyUnit tests"
   ]
  },
  {
   "cell_type": "code",
   "execution_count": 79,
   "metadata": {},
   "outputs": [
    {
     "name": "stderr",
     "output_type": "stream",
     "text": [
      "E..\n",
      "======================================================================\n",
      "ERROR: test_datetime (__main__.Test_Schedule)\n",
      "----------------------------------------------------------------------\n",
      "Traceback (most recent call last):\n",
      "  File \"<ipython-input-79-cdba8bc8c95a>\", line 17, in test_datetime\n",
      "    with patch('{:%H:%M:%S}'.format(datetime.datetime,now())) as mocked_time:\n",
      "NameError: name 'now' is not defined\n",
      "\n",
      "----------------------------------------------------------------------\n",
      "Ran 3 tests in 0.021s\n",
      "\n",
      "FAILED (errors=1)\n"
     ]
    }
   ],
   "source": [
    "import unittest\n",
    "import pandas as pd\n",
    "from unittest.mock import patch\n",
    "\n",
    "# capture results of funtion\n",
    "# check fot expected output\n",
    "\n",
    "class Test_Schedule(unittest.TestCase):\n",
    "        \n",
    "    def setUp(self):\n",
    "        self.orders = 3\n",
    "        \n",
    "    def tearDown(self):\n",
    "        pass\n",
    "    \n",
    "    def test_datetime(self):\n",
    "        with patch('{:%H:%M:%S}'.format(datetime.datetime,now())) as mocked_time:\n",
    "            #mocked_time.return_value.ok = True\n",
    "            mocked_time.return_value.text = '00:00:00'\n",
    "            \n",
    "            time = datetime.datetime()\n",
    "            mocked_time.assert_called_with('00:00:00')\n",
    "            self.assertEqual(time, '00:00:00')\n",
    "                   \n",
    "    def test_orders(self):\n",
    "        #Number of orders placed should be int\n",
    "        self.assertIsInstance(self.orders, int, msg='orders should be an int dtype')\n",
    "        #Number of orders placed should be greater then 0\n",
    "        self.assertNotEqual(self.orders, 0, msg='number of orders placed should be greater than zero')\n",
    "        #Result should return dataframe object\n",
    "        self.assertIsInstance(orders(3),object, msg='Result should return dataframe object')\n",
    "        #Timestamp format in dataframe should be type string\n",
    "        self.assertIsInstance(df['time'][1],str, msg='Timestamp in dataframe should be type string')\n",
    "        #Timestamp should have format '{:%H:%M:%S}'\n",
    "        self.assertRegex(df['time'][1],'\\d{2}\\:\\d{2}\\:\\d{2}', msg=\"Timestamp should have format {:%H:%M:%S}\")\n",
    "        \n",
    "    def test_output_schedule_type(self):\n",
    "        # test list\n",
    "        self.assertIsInstance(seq_list,list)\n",
    "        # test matrix\n",
    "        #self.assertTrue(type(seq_matrix) is <U25)\n",
    "        # test df\n",
    "        self.assertIsInstance(df,object)\n",
    "        \n",
    "if __name__ == '__main__':\n",
    "    unittest.main(argv=['first-arg-is-ignored'], exit=False)"
   ]
  },
  {
   "cell_type": "markdown",
   "metadata": {},
   "source": [
    "## Functions"
   ]
  },
  {
   "cell_type": "code",
   "execution_count": 75,
   "metadata": {},
   "outputs": [],
   "source": [
    "# Fast Food Schedule\n",
    "\n",
    "# By Richard Martin\n",
    "# 8th July 2018\n",
    "\n",
    "import numpy as np\n",
    "import pandas as pd\n",
    "import datetime\n",
    "\n",
    "def orders(param1):\n",
    "    \"\"\"This Function creates a schelduled list of timestamps based on orders placed\"\"\"\n",
    "    if param1 > 0:\n",
    "        now = 0\n",
    "        total = 90\n",
    "        lst = ['{:%H:%M:%S}'.format(datetime.datetime.now()+datetime.timedelta(seconds =now)), str(param1) + \" sandwich orders placed\"]\n",
    "        seq_list.append(lst)\n",
    "        i=1\n",
    "        while i < param1+1:\n",
    "            make=(i*total)-total\n",
    "            seq_list.append(['{:%H:%M:%S}'.format(datetime.datetime.now()+datetime.timedelta(seconds =make)), 'make sandwich ' +str(i)])\n",
    "            serve = (i*total)-30\n",
    "            seq_list.append(['{:%H:%M:%S}'.format(datetime.datetime.now()+datetime.timedelta(seconds =serve)), 'serve sandwich ' +str(i)])\n",
    "            i=i+1\n",
    "        rest = ((param1+1)*total)-total\n",
    "        seq_list.append(['{:%H:%M:%S}'.format(datetime.datetime.now()+datetime.timedelta(seconds =rest)), 'take a well earned break!'])\n",
    "        seq_matrix = np.array(seq_list)\n",
    "        cols = ['time', 'task']\n",
    "        df = pd.DataFrame(data=seq_matrix, columns=cols)\n",
    "        return df\n",
    "    else:\n",
    "        print('should be grater then 1')\n",
    "    \n",
    "def output_schedule(output):\n",
    "    \"\"\"This Function prints the latest sequence list\"\"\"\n",
    "    print(output)"
   ]
  },
  {
   "cell_type": "markdown",
   "metadata": {},
   "source": [
    "## Jupyter Demonstration\n"
   ]
  },
  {
   "cell_type": "code",
   "execution_count": 52,
   "metadata": {
    "scrolled": true
   },
   "outputs": [
    {
     "name": "stdout",
     "output_type": "stream",
     "text": [
      "[]\n"
     ]
    }
   ],
   "source": [
    "seq_list = []\n",
    "print(seq_list)"
   ]
  },
  {
   "cell_type": "code",
   "execution_count": 53,
   "metadata": {},
   "outputs": [
    {
     "name": "stdout",
     "output_type": "stream",
     "text": [
      "       time                       task\n",
      "0  20:50:41   3 sandwich orders placed\n",
      "1  20:50:41            make sandwich 1\n",
      "2  20:51:41           serve sandwich 1\n",
      "3  20:52:11            make sandwich 2\n",
      "4  20:53:11           serve sandwich 2\n",
      "5  20:53:41            make sandwich 3\n",
      "6  20:54:41           serve sandwich 3\n",
      "7  20:55:11  take a well earned break!\n"
     ]
    }
   ],
   "source": [
    "print(orders(3\n",
    "            ))"
   ]
  },
  {
   "cell_type": "code",
   "execution_count": 54,
   "metadata": {},
   "outputs": [
    {
     "name": "stdout",
     "output_type": "stream",
     "text": [
      "[['20:50:41', '3 sandwich orders placed'], ['20:50:41', 'make sandwich 1'], ['20:51:41', 'serve sandwich 1'], ['20:52:11', 'make sandwich 2'], ['20:53:11', 'serve sandwich 2'], ['20:53:41', 'make sandwich 3'], ['20:54:41', 'serve sandwich 3'], ['20:55:11', 'take a well earned break!']]\n"
     ]
    }
   ],
   "source": [
    "output_schedule(seq_list)"
   ]
  },
  {
   "cell_type": "code",
   "execution_count": 55,
   "metadata": {},
   "outputs": [],
   "source": [
    "seq_matrix = np.array(seq_list)\n",
    "cols = ['time', 'task']\n",
    "df = pd.DataFrame(data=seq_matrix, columns=cols)"
   ]
  },
  {
   "cell_type": "code",
   "execution_count": 56,
   "metadata": {},
   "outputs": [
    {
     "name": "stdout",
     "output_type": "stream",
     "text": [
      "[['20:50:41' '3 sandwich orders placed']\n",
      " ['20:50:41' 'make sandwich 1']\n",
      " ['20:51:41' 'serve sandwich 1']\n",
      " ['20:52:11' 'make sandwich 2']\n",
      " ['20:53:11' 'serve sandwich 2']\n",
      " ['20:53:41' 'make sandwich 3']\n",
      " ['20:54:41' 'serve sandwich 3']\n",
      " ['20:55:11' 'take a well earned break!']]\n"
     ]
    }
   ],
   "source": [
    "output_schedule(seq_matrix)"
   ]
  },
  {
   "cell_type": "code",
   "execution_count": 57,
   "metadata": {},
   "outputs": [
    {
     "name": "stdout",
     "output_type": "stream",
     "text": [
      "       time                       task\n",
      "0  20:50:41   3 sandwich orders placed\n",
      "1  20:50:41            make sandwich 1\n",
      "2  20:51:41           serve sandwich 1\n",
      "3  20:52:11            make sandwich 2\n",
      "4  20:53:11           serve sandwich 2\n",
      "5  20:53:41            make sandwich 3\n",
      "6  20:54:41           serve sandwich 3\n",
      "7  20:55:11  take a well earned break!\n"
     ]
    }
   ],
   "source": [
    "output_schedule(df)"
   ]
  },
  {
   "cell_type": "code",
   "execution_count": 58,
   "metadata": {},
   "outputs": [
    {
     "name": "stdout",
     "output_type": "stream",
     "text": [
      "<U25\n"
     ]
    }
   ],
   "source": [
    "print(seq_matrix.dtype)"
   ]
  },
  {
   "cell_type": "code",
   "execution_count": 59,
   "metadata": {},
   "outputs": [
    {
     "data": {
      "text/plain": [
       "array([['20:50:41', '3 sandwich orders placed'],\n",
       "       ['20:50:41', 'make sandwich 1'],\n",
       "       ['20:51:41', 'serve sandwich 1'],\n",
       "       ['20:52:11', 'make sandwich 2'],\n",
       "       ['20:53:11', 'serve sandwich 2'],\n",
       "       ['20:53:41', 'make sandwich 3'],\n",
       "       ['20:54:41', 'serve sandwich 3'],\n",
       "       ['20:55:11', 'take a well earned break!']], dtype='<U25')"
      ]
     },
     "execution_count": 59,
     "metadata": {},
     "output_type": "execute_result"
    }
   ],
   "source": [
    "seq_matrix"
   ]
  },
  {
   "cell_type": "code",
   "execution_count": 47,
   "metadata": {},
   "outputs": [
    {
     "data": {
      "text/plain": [
       "'20:50:13'"
      ]
     },
     "execution_count": 47,
     "metadata": {},
     "output_type": "execute_result"
    }
   ],
   "source": [
    "df['time'][1]"
   ]
  },
  {
   "cell_type": "code",
   "execution_count": 50,
   "metadata": {},
   "outputs": [
    {
     "ename": "NameError",
     "evalue": "name 'ordersplaced' is not defined",
     "output_type": "error",
     "traceback": [
      "\u001b[1;31m---------------------------------------------------------------------------\u001b[0m",
      "\u001b[1;31mNameError\u001b[0m                                 Traceback (most recent call last)",
      "\u001b[1;32m<ipython-input-50-c1871c8842d5>\u001b[0m in \u001b[0;36m<module>\u001b[1;34m()\u001b[0m\n\u001b[1;32m----> 1\u001b[1;33m \u001b[0mprint\u001b[0m\u001b[1;33m(\u001b[0m\u001b[0mordersplaced\u001b[0m\u001b[1;33m)\u001b[0m\u001b[1;33m\u001b[0m\u001b[0m\n\u001b[0m",
      "\u001b[1;31mNameError\u001b[0m: name 'ordersplaced' is not defined"
     ]
    }
   ],
   "source": [
    "print(ordersplaced)"
   ]
  },
  {
   "cell_type": "code",
   "execution_count": 49,
   "metadata": {},
   "outputs": [
    {
     "ename": "TypeError",
     "evalue": "orders() missing 1 required positional argument: 'param1'",
     "output_type": "error",
     "traceback": [
      "\u001b[1;31m---------------------------------------------------------------------------\u001b[0m",
      "\u001b[1;31mTypeError\u001b[0m                                 Traceback (most recent call last)",
      "\u001b[1;32m<ipython-input-49-8afa557884f0>\u001b[0m in \u001b[0;36m<module>\u001b[1;34m()\u001b[0m\n\u001b[1;32m----> 1\u001b[1;33m \u001b[0morders\u001b[0m\u001b[1;33m(\u001b[0m\u001b[1;33m)\u001b[0m\u001b[1;33m\u001b[0m\u001b[0m\n\u001b[0m",
      "\u001b[1;31mTypeError\u001b[0m: orders() missing 1 required positional argument: 'param1'"
     ]
    }
   ],
   "source": [
    "orders()\n"
   ]
  },
  {
   "cell_type": "code",
   "execution_count": null,
   "metadata": {},
   "outputs": [],
   "source": []
  }
 ],
 "metadata": {
  "kernelspec": {
   "display_name": "Python 3",
   "language": "python",
   "name": "python3"
  },
  "language_info": {
   "codemirror_mode": {
    "name": "ipython",
    "version": 3
   },
   "file_extension": ".py",
   "mimetype": "text/x-python",
   "name": "python",
   "nbconvert_exporter": "python",
   "pygments_lexer": "ipython3",
   "version": "3.6.5"
  }
 },
 "nbformat": 4,
 "nbformat_minor": 2
}
