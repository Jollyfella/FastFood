{
 "cells": [
  {
   "cell_type": "code",
   "execution_count": 1,
   "metadata": {},
   "outputs": [],
   "source": [
    "import os\n",
    "import sys\n",
    "import fileinput"
   ]
  },
  {
   "cell_type": "code",
   "execution_count": 3,
   "metadata": {},
   "outputs": [
    {
     "name": "stdout",
     "output_type": "stream",
     "text": [
      "Text to search for:\n",
      "> depth/m\n",
      "Text to replace it with:\n",
      "> depth\n",
      "File to perform Search-Replace on:\n",
      "> C:\\Users\\H159846\\Desktop\\New Text Document.txt\n",
      "Match Found\n",
      "\n",
      "\n",
      " Press Enter to exit...\n"
     ]
    },
    {
     "data": {
      "text/plain": [
       "''"
      ]
     },
     "execution_count": 3,
     "metadata": {},
     "output_type": "execute_result"
    }
   ],
   "source": [
    "print (\"Text to search for:\")\n",
    "textToSearch = input( \"> \" ) \n",
    "\n",
    "print (\"Text to replace it with:\")\n",
    "textToReplace = input( \"> \" )\n",
    "\n",
    "print (\"File to perform Search-Replace on:\")\n",
    "fileToSearch  = input( \"> \" )\n",
    "#fileToSearch = 'D:\\dummy1.txt'\n",
    "\n",
    "tempFile = open( fileToSearch, 'r+' )\n",
    "\n",
    "for line in fileinput.input( fileToSearch ):\n",
    "    if textToSearch in line :\n",
    "        print('Match Found')\n",
    "    else:\n",
    "        print('Match Not Found!!')\n",
    "    tempFile.write( line.replace( textToSearch, textToReplace ) )\n",
    "tempFile.close()\n",
    "\n",
    "\n",
    "input( '\\n\\n Press Enter to exit...' )"
   ]
  },
  {
   "cell_type": "code",
   "execution_count": 9,
   "metadata": {},
   "outputs": [],
   "source": [
    "import glob\n",
    "lst = [\"DEPTH_(m)\", \"DEPTH(m)\",\"K_%\",\"TH/K\",\"TH/U\",\"NPHI_v/v\"]"
   ]
  },
  {
   "cell_type": "code",
   "execution_count": 10,
   "metadata": {},
   "outputs": [
    {
     "data": {
      "text/plain": [
       "['DEPTH(m)', 'DEPTH_(m)', 'K_%', 'NPHI_v/v', 'TH/K', 'TH/U']"
      ]
     },
     "execution_count": 10,
     "metadata": {},
     "output_type": "execute_result"
    }
   ],
   "source": [
    "sorted(lst)"
   ]
  },
  {
   "cell_type": "code",
   "execution_count": 11,
   "metadata": {},
   "outputs": [
    {
     "ename": "SyntaxError",
     "evalue": "(unicode error) 'unicodeescape' codec can't decode bytes in position 12-13: truncated \\UXXXXXXXX escape (<ipython-input-11-3f736b715ca8>, line 1)",
     "output_type": "error",
     "traceback": [
      "\u001b[1;36m  File \u001b[1;32m\"<ipython-input-11-3f736b715ca8>\"\u001b[1;36m, line \u001b[1;32m1\u001b[0m\n\u001b[1;33m    glob.glob(\"‪C:\\Users\\H159846\\Desktop\\dir\")\u001b[0m\n\u001b[1;37m             ^\u001b[0m\n\u001b[1;31mSyntaxError\u001b[0m\u001b[1;31m:\u001b[0m (unicode error) 'unicodeescape' codec can't decode bytes in position 12-13: truncated \\UXXXXXXXX escape\n"
     ]
    }
   ],
   "source": [
    "glob.glob(\"‪C:\\Users\\H159846\\Desktop\\dir\")"
   ]
  },
  {
   "cell_type": "code",
   "execution_count": 13,
   "metadata": {},
   "outputs": [
    {
     "ename": "OSError",
     "evalue": "[WinError 123] The filename, directory name, or volume label syntax is incorrect: '\\u202aC:/Users/H159846/Desktop/dir'",
     "output_type": "error",
     "traceback": [
      "\u001b[1;31m---------------------------------------------------------------------------\u001b[0m",
      "\u001b[1;31mOSError\u001b[0m                                   Traceback (most recent call last)",
      "\u001b[1;32m<ipython-input-13-fea70cc4b230>\u001b[0m in \u001b[0;36m<module>\u001b[1;34m()\u001b[0m\n\u001b[1;32m----> 1\u001b[1;33m \u001b[0mall_files\u001b[0m \u001b[1;33m=\u001b[0m \u001b[0mos\u001b[0m\u001b[1;33m.\u001b[0m\u001b[0mlistdir\u001b[0m\u001b[1;33m(\u001b[0m\u001b[1;34m\"‪C:/Users/H159846/Desktop/dir\"\u001b[0m\u001b[1;33m)\u001b[0m\u001b[1;33m\u001b[0m\u001b[0m\n\u001b[0m\u001b[0;32m      2\u001b[0m \u001b[0mprint\u001b[0m\u001b[1;33m(\u001b[0m\u001b[0mall_files\u001b[0m\u001b[1;33m)\u001b[0m\u001b[1;33m\u001b[0m\u001b[0m\n",
      "\u001b[1;31mOSError\u001b[0m: [WinError 123] The filename, directory name, or volume label syntax is incorrect: '\\u202aC:/Users/H159846/Desktop/dir'"
     ]
    }
   ],
   "source": [
    "all_files = os.listdir(\"‪C:/Users/H159846/Desktop/dir\")\n",
    "print(all_files)"
   ]
  },
  {
   "cell_type": "code",
   "execution_count": null,
   "metadata": {},
   "outputs": [],
   "source": []
  }
 ],
 "metadata": {
  "kernelspec": {
   "display_name": "Python 3",
   "language": "python",
   "name": "python3"
  },
  "language_info": {
   "codemirror_mode": {
    "name": "ipython",
    "version": 3
   },
   "file_extension": ".py",
   "mimetype": "text/x-python",
   "name": "python",
   "nbconvert_exporter": "python",
   "pygments_lexer": "ipython3",
   "version": "3.6.5"
  }
 },
 "nbformat": 4,
 "nbformat_minor": 2
}
