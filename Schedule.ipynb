{
 "cells": [
  {
   "cell_type": "markdown",
   "metadata": {},
   "source": [
    "# Author: Richard Martin\n",
    "### Date: 8th July 2018\n",
    "## Module: Fast Food Test\n",
    "### Aim: write a program to help organise people's orders and sequence what I should be doing"
   ]
  },
  {
   "cell_type": "markdown",
   "metadata": {},
   "source": [
    "## Functions"
   ]
  },
  {
   "cell_type": "code",
   "execution_count": 1,
   "metadata": {},
   "outputs": [],
   "source": [
    "# Fast Food Schedule\n",
    "\n",
    "# By Richard Martin\n",
    "# 8th July 2018\n",
    "\n",
    "import numpy as np\n",
    "import pandas as pd\n",
    "import datetime\n",
    "\n",
    "def orders(param1):\n",
    "    \"\"\"This Function creates a schelduled list of timestamps based on orders placed\"\"\"\n",
    "    if param1 > 0:\n",
    "        now = 0\n",
    "        total = 90\n",
    "        lst = ['{:%H:%M:%S}'.format(datetime.datetime.now()+datetime.timedelta(seconds =now)), str(param1) + \" sandwich orders placed\"]\n",
    "        seq_list.append(lst)\n",
    "        i=1\n",
    "        while i < param1+1:\n",
    "            make=(i*total)-total\n",
    "            seq_list.append(['{:%H:%M:%S}'.format(datetime.datetime.now()+datetime.timedelta(seconds =make)), 'make sandwich ' +str(i)])\n",
    "            serve = (i*total)-30\n",
    "            seq_list.append(['{:%H:%M:%S}'.format(datetime.datetime.now()+datetime.timedelta(seconds =serve)), 'serve sandwich ' +str(i)])\n",
    "            i=i+1\n",
    "        rest = ((param1+1)*total)-total\n",
    "        seq_list.append(['{:%H:%M:%S}'.format(datetime.datetime.now()+datetime.timedelta(seconds =rest)), 'take a well earned break!'])\n",
    "        seq_matrix = np.array(seq_list)\n",
    "        cols = ['time', 'task']\n",
    "        df = pd.DataFrame(data=seq_matrix, columns=cols)\n",
    "        return df\n",
    "    else:\n",
    "        print('Number of orders should be grater then 1!')\n",
    "    \n",
    "def output_schedule(output):\n",
    "    \"\"\"This Function prints the latest sequence list\"\"\"\n",
    "    print(output)"
   ]
  },
  {
   "cell_type": "markdown",
   "metadata": {},
   "source": [
    "## Jupyter Demonstration\n"
   ]
  },
  {
   "cell_type": "code",
   "execution_count": 6,
   "metadata": {
    "scrolled": true
   },
   "outputs": [
    {
     "name": "stdout",
     "output_type": "stream",
     "text": [
      "[]\n"
     ]
    }
   ],
   "source": [
    "seq_list = []\n",
    "print(seq_list)"
   ]
  },
  {
   "cell_type": "code",
   "execution_count": 7,
   "metadata": {},
   "outputs": [
    {
     "name": "stdout",
     "output_type": "stream",
     "text": [
      "       time                       task\n",
      "0  13:36:45   3 sandwich orders placed\n",
      "1  13:36:45            make sandwich 1\n",
      "2  13:37:45           serve sandwich 1\n",
      "3  13:38:15            make sandwich 2\n",
      "4  13:39:15           serve sandwich 2\n",
      "5  13:39:45            make sandwich 3\n",
      "6  13:40:45           serve sandwich 3\n",
      "7  13:41:15  take a well earned break!\n"
     ]
    }
   ],
   "source": [
    "output_schedule(orders(3))"
   ]
  },
  {
   "cell_type": "code",
   "execution_count": 8,
   "metadata": {},
   "outputs": [
    {
     "ename": "NameError",
     "evalue": "name 'df' is not defined",
     "output_type": "error",
     "traceback": [
      "\u001b[1;31m---------------------------------------------------------------------------\u001b[0m",
      "\u001b[1;31mNameError\u001b[0m                                 Traceback (most recent call last)",
      "\u001b[1;32m<ipython-input-8-2e4902fb8fd5>\u001b[0m in \u001b[0;36m<module>\u001b[1;34m()\u001b[0m\n\u001b[1;32m----> 1\u001b[1;33m \u001b[0moutput_schedule\u001b[0m\u001b[1;33m(\u001b[0m\u001b[0mdf\u001b[0m\u001b[1;33m)\u001b[0m\u001b[1;33m\u001b[0m\u001b[0m\n\u001b[0m",
      "\u001b[1;31mNameError\u001b[0m: name 'df' is not defined"
     ]
    }
   ],
   "source": [
    "output_schedule(df)"
   ]
  },
  {
   "cell_type": "code",
   "execution_count": 9,
   "metadata": {},
   "outputs": [
    {
     "ename": "NameError",
     "evalue": "name 'df' is not defined",
     "output_type": "error",
     "traceback": [
      "\u001b[1;31m---------------------------------------------------------------------------\u001b[0m",
      "\u001b[1;31mNameError\u001b[0m                                 Traceback (most recent call last)",
      "\u001b[1;32m<ipython-input-9-2a851eda2e88>\u001b[0m in \u001b[0;36m<module>\u001b[1;34m()\u001b[0m\n\u001b[1;32m----> 1\u001b[1;33m \u001b[0mprint\u001b[0m\u001b[1;33m(\u001b[0m\u001b[0mdf\u001b[0m\u001b[1;33m)\u001b[0m\u001b[1;33m\u001b[0m\u001b[0m\n\u001b[0m",
      "\u001b[1;31mNameError\u001b[0m: name 'df' is not defined"
     ]
    }
   ],
   "source": [
    "print(df)"
   ]
  },
  {
   "cell_type": "markdown",
   "metadata": {},
   "source": [
    "## PyUnit tests"
   ]
  },
  {
   "cell_type": "code",
   "execution_count": 15,
   "metadata": {},
   "outputs": [
    {
     "name": "stderr",
     "output_type": "stream",
     "text": [
      "..\n",
      "----------------------------------------------------------------------\n",
      "Ran 2 tests in 0.016s\n",
      "\n",
      "OK\n"
     ]
    }
   ],
   "source": [
    "import unittest\n",
    "import pandas as pd\n",
    "\n",
    "# capture results of funtion\n",
    "# check fot expected output\n",
    "\n",
    "class Test_Schedule(unittest.TestCase):\n",
    "        \n",
    "    def setUp(self):\n",
    "        self.orders = 3\n",
    "                \n",
    "    def tearDown(self):\n",
    "        pass\n",
    "                      \n",
    "    def test_orders(self):\n",
    "        #Number of orders placed should be int\n",
    "        self.assertIsInstance(self.orders, int, msg='orders should be an int dtype')\n",
    "        #Number of orders placed should be greater then 0\n",
    "        self.assertNotEqual(self.orders, 0, msg='number of orders placed should be greater than zero')\n",
    "        #Test that seq_list is list\n",
    "        self.assertIsInstance(seq_list,list, msg='seq_list should be list type ')\n",
    "        # test matrix\n",
    "        #self.assertTrue(type(seq_matrix) is <U25)\n",
    "        \n",
    "        #Result should return dataframe object\n",
    "        self.assertIsInstance(orders(3),object, msg='Result should return dataframe object')\n",
    "        #Timestamp format in dataframe should be type string\n",
    "        self.assertIsInstance(orders(3)['time'][1],str, msg='Timestamp in dataframe should be type string')\n",
    "        #Timestamp should have format '{:%H:%M:%S}'\n",
    "        self.assertRegex(orders(3)['time'][1],'\\d{2}\\:\\d{2}\\:\\d{2}', msg=\"Timestamp should have format {:%H:%M:%S}\")\n",
    "        \n",
    "    def test_output_schedule_type(self):\n",
    "        # test df\n",
    "        self.assertIsInstance(orders(3),object)\n",
    "        \n",
    "if __name__ == '__main__':\n",
    "    unittest.main(argv=['first-arg-is-ignored'], exit=False)"
   ]
  },
  {
   "cell_type": "code",
   "execution_count": null,
   "metadata": {},
   "outputs": [],
   "source": []
  }
 ],
 "metadata": {
  "kernelspec": {
   "display_name": "Python 3",
   "language": "python",
   "name": "python3"
  },
  "language_info": {
   "codemirror_mode": {
    "name": "ipython",
    "version": 3
   },
   "file_extension": ".py",
   "mimetype": "text/x-python",
   "name": "python",
   "nbconvert_exporter": "python",
   "pygments_lexer": "ipython3",
   "version": "3.6.5"
  }
 },
 "nbformat": 4,
 "nbformat_minor": 2
}
