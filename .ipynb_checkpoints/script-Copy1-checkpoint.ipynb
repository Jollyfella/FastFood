{
 "cells": [
  {
   "cell_type": "code",
   "execution_count": 59,
   "metadata": {},
   "outputs": [],
   "source": [
    "import numpy as np\n",
    "import pandas as pd\n",
    "import datetime"
   ]
  },
  {
   "cell_type": "markdown",
   "metadata": {},
   "source": [
    "# Reset seq_list"
   ]
  },
  {
   "cell_type": "code",
   "execution_count": 6,
   "metadata": {},
   "outputs": [
    {
     "name": "stdout",
     "output_type": "stream",
     "text": [
      "[]\n"
     ]
    }
   ],
   "source": [
    "seq_list = []\n",
    "print(seq_list)"
   ]
  },
  {
   "cell_type": "markdown",
   "metadata": {},
   "source": [
    "# Functions"
   ]
  },
  {
   "cell_type": "code",
   "execution_count": 157,
   "metadata": {},
   "outputs": [],
   "source": [
    "def add_order(param1):\n",
    "    now = '{:%Y-%m-%d %H:%M:%S}'.format(datetime.datetime.now())\n",
    "    now_plus_1min = '{:%Y-%m-%d %H:%M:%S}'.format(datetime.datetime.now() + datetime.timedelta(minutes = 1))\n",
    "    now_plus_90sec = '{:%Y-%m-%d %H:%M:%S}'.format(datetime.datetime.now() + datetime.timedelta(seconds = 90))\n",
    "    if param1 == 1:\n",
    "        lst = [now, 'order ' +str(param1) +' placed']\n",
    "        seq_list.append(lst)\n",
    "        seq_list.append([now_plus_1min, 'make ' +str(param1) +' by'])\n",
    "        seq_list.append([now_plus_90sec, 'serve ' +str(param1) +' by'])\n",
    "    else:\n",
    "        lst = [param1, param1]"
   ]
  },
  {
   "cell_type": "code",
   "execution_count": 263,
   "metadata": {},
   "outputs": [],
   "source": [
    "def add_for_order3(param1):\n",
    "    now = str('{:%Y-%m-%d %H:%M:%S}'.format(datetime.datetime.now()))\n",
    "    i=1       \n",
    "    lst = [now, str(param1) +' sandwich orders placed']\n",
    "    now_plus_1min = str('{:%Y-%m-%d %H:%M:%S}'.format(datetime.datetime.now() + datetime.timedelta(minutes = 1)))\n",
    "    now_plus_90sec = str('{:%Y-%m-%d %H:%M:%S}'.format(datetime.datetime.now() + datetime.timedelta(seconds =90)))\n",
    "    seq_list.append(lst)\n",
    "    while i < param1+1:\n",
    "        seq_list.append([now_plus_1min, 'make sandwich ' +str(i) +' by'])\n",
    "        seq_list.append([now_plus_90sec, 'serve sanwich ' +str(i) +' by'])\n",
    "        i = i+1\n",
    "        now_plus_1min = str('{:%Y-%m-%d %H:%M:%S}'.format(datetime.datetime.now() + datetime.timedelta(minutes = i)))\n",
    "        now_plus_90sec = str('{:%Y-%m-%d %H:%M:%S}'.format(datetime.datetime.now() + datetime.timedelta(minutes = i, seconds =30)))"
   ]
  },
  {
   "cell_type": "code",
   "execution_count": 1048,
   "metadata": {},
   "outputs": [],
   "source": [
    "def place_order(param1):\n",
    "    \n",
    "    # Begin list with initial order timestamp\n",
    "    \n",
    "    #now = '{:%Y-%m-%d %H:%M:%S}'.format(datetime.datetime.now())\n",
    "    #now = datetime.datetime.now().replace(microsecond=0)\n",
    "    lst = ['{:%Y-%m-%d %H:%M:%S}'.format(datetime.datetime.now()), str(param1) +' sandwich orders placed']\n",
    "    seq_list.append(lst)\n",
    "    \n",
    "    i=1\n",
    "    \n",
    "    # Get serving timestamps\n",
    "    \n",
    "    #make = str('{:%Y-%m-%d %H:%M:%S}'.format(datetime.datetime.now()))\n",
    "    #total_serving_time = '{:%Y-%m-%d %H:%M:%S}'.format(datetime.datetime.now() + datetime.timedelta(minutes =1, seconds=30))\n",
    "    \n",
    "    #total_serving_time = datetime.datetime.now() + datetime.timedelta(minutes =1, seconds=30)\n",
    "    #serve = '{:%Y-%m-%d %H:%M:%S}'.format(datetime.datetime.now() + datetime.timedelta(minutes =1))\n",
    "    #serving_time = '{:%Y-%m-%d %H:%M:%S}'.format(datetime.datetime.now() + datetime.timedelta(minutes =1, seconds =30))\n",
    "    \n",
    "    seq_list.append(['{:%Y-%m-%d %H:%M:%S}'.format(datetime.datetime.now()), 'make sandwich ' +str(i)])\n",
    "    #time = '{:%Y-%m-%d %H:%M:%S}'.format(total_serving_time-now)\n",
    "    \n",
    "    #time = total_serving_time-now\n",
    "    #time = (datetime.datetime.now() + datetime.timedelta(minutes =1, seconds=30))-(datetime.datetime.now())\n",
    "    \n",
    "    seq_list.append(['{:%Y-%m-%d %H:%M:%S}'.format(datetime.datetime.now() + datetime.timedelta(minutes =1)), 'serve sandwich ' +str(i)])\n",
    "    i=i+1\n",
    "    \n",
    "    while i < param1+1:\n",
    "        \n",
    "        make = str('{:%Y-%m-%d %H:%M:%S}'.format(datetime.datetime.now() + datetime.timedelta(seconds=30)))\n",
    "        serve = str('{:%Y-%m-%d %H:%M:%S}'.format(datetime.datetime.now() + datetime.timedelta(minutes=i, seconds=30)))\n",
    "        #str serve = str(make + str(datetime.timedelta(minutes=i+1, seconds=-30)))\n",
    "        #seq_list.append([make, 'make sandwich ' +str(i+1)])\n",
    "        #seq_list.append([serve, 'serve sandwich ' +str(i+1)])\n",
    "        seq_list.append(['{:%Y-%m-%d %H:%M:%S}'.format(datetime.datetime.now() + datetime.timedelta(minutes =i-1, seconds =30)), 'make sandwich ' +str(i)])\n",
    "        seq_list.append(['{:%Y-%m-%d %H:%M:%S}'.format(datetime.datetime.now() + datetime.timedelta(minutes=i, seconds=30)), 'serve sandwich ' +str(i)])\n",
    "        i = i+1\n",
    "        \n",
    "\n",
    "         "
   ]
  },
  {
   "cell_type": "code",
   "execution_count": 45,
   "metadata": {},
   "outputs": [],
   "source": [
    "def print_list(seq_list):\n",
    "    \"\"\"This Function prints the latest sequence list\"\"\"\n",
    "    print(seq_list)"
   ]
  },
  {
   "cell_type": "code",
   "execution_count": 1067,
   "metadata": {},
   "outputs": [
    {
     "name": "stdout",
     "output_type": "stream",
     "text": [
      "2018-07-09 19:21:33 OrderPlaced\n",
      "2018-07-09 19:23:03 total_serving_time\n"
     ]
    },
    {
     "ename": "TypeError",
     "evalue": "unsupported operand type(s) for *: 'int' and 'datetime.datetime'",
     "output_type": "error",
     "traceback": [
      "\u001b[1;31m---------------------------------------------------------------------------\u001b[0m",
      "\u001b[1;31mTypeError\u001b[0m                                 Traceback (most recent call last)",
      "\u001b[1;32m<ipython-input-1067-7af927bf8c9b>\u001b[0m in \u001b[0;36m<module>\u001b[1;34m()\u001b[0m\n\u001b[0;32m      4\u001b[0m \u001b[0mprint\u001b[0m\u001b[1;33m(\u001b[0m\u001b[0mstr\u001b[0m\u001b[1;33m(\u001b[0m\u001b[0mtotal_serving_time\u001b[0m\u001b[1;33m)\u001b[0m\u001b[1;33m+\u001b[0m\u001b[1;34m\" total_serving_time\"\u001b[0m\u001b[1;33m)\u001b[0m\u001b[1;33m\u001b[0m\u001b[0m\n\u001b[0;32m      5\u001b[0m \u001b[0mi\u001b[0m\u001b[1;33m=\u001b[0m\u001b[1;36m2\u001b[0m\u001b[1;33m\u001b[0m\u001b[0m\n\u001b[1;32m----> 6\u001b[1;33m \u001b[0mmake2\u001b[0m \u001b[1;33m=\u001b[0m \u001b[1;33m(\u001b[0m\u001b[0mi\u001b[0m\u001b[1;33m*\u001b[0m\u001b[1;33m(\u001b[0m\u001b[0mdatetime\u001b[0m\u001b[1;33m.\u001b[0m\u001b[0mdatetime\u001b[0m\u001b[1;33m.\u001b[0m\u001b[0mnow\u001b[0m\u001b[1;33m(\u001b[0m\u001b[1;33m)\u001b[0m\u001b[1;33m.\u001b[0m\u001b[0mreplace\u001b[0m\u001b[1;33m(\u001b[0m\u001b[0mmicrosecond\u001b[0m\u001b[1;33m=\u001b[0m\u001b[1;36m0\u001b[0m\u001b[1;33m)\u001b[0m \u001b[1;33m+\u001b[0m \u001b[0mdatetime\u001b[0m\u001b[1;33m.\u001b[0m\u001b[0mtimedelta\u001b[0m\u001b[1;33m(\u001b[0m\u001b[0mminutes\u001b[0m \u001b[1;33m=\u001b[0m\u001b[1;36m1\u001b[0m\u001b[1;33m,\u001b[0m \u001b[0mseconds\u001b[0m\u001b[1;33m=\u001b[0m\u001b[1;36m30\u001b[0m\u001b[1;33m)\u001b[0m\u001b[1;33m)\u001b[0m\u001b[1;33m)\u001b[0m \u001b[1;33m-\u001b[0m \u001b[1;33m(\u001b[0m\u001b[0mdatetime\u001b[0m\u001b[1;33m.\u001b[0m\u001b[0mdatetime\u001b[0m\u001b[1;33m.\u001b[0m\u001b[0mnow\u001b[0m\u001b[1;33m(\u001b[0m\u001b[1;33m)\u001b[0m\u001b[1;33m.\u001b[0m\u001b[0mreplace\u001b[0m\u001b[1;33m(\u001b[0m\u001b[0mmicrosecond\u001b[0m\u001b[1;33m=\u001b[0m\u001b[1;36m0\u001b[0m\u001b[1;33m)\u001b[0m \u001b[1;33m+\u001b[0m \u001b[0mdatetime\u001b[0m\u001b[1;33m.\u001b[0m\u001b[0mtimedelta\u001b[0m\u001b[1;33m(\u001b[0m\u001b[0mminutes\u001b[0m \u001b[1;33m=\u001b[0m\u001b[1;36m1\u001b[0m\u001b[1;33m,\u001b[0m \u001b[0mseconds\u001b[0m\u001b[1;33m=\u001b[0m\u001b[1;36m30\u001b[0m\u001b[1;33m)\u001b[0m\u001b[1;33m)\u001b[0m\u001b[1;33m\u001b[0m\u001b[0m\n\u001b[0m\u001b[0;32m      7\u001b[0m \u001b[0mprint\u001b[0m\u001b[1;33m(\u001b[0m\u001b[0mstr\u001b[0m\u001b[1;33m(\u001b[0m\u001b[0mmake2\u001b[0m\u001b[1;33m)\u001b[0m \u001b[1;33m+\u001b[0m \u001b[1;34m\" make2\"\u001b[0m\u001b[1;33m)\u001b[0m\u001b[1;33m\u001b[0m\u001b[0m\n\u001b[0;32m      8\u001b[0m \u001b[0mserve2\u001b[0m \u001b[1;33m=\u001b[0m \u001b[1;33m(\u001b[0m\u001b[0mdatetime\u001b[0m\u001b[1;33m.\u001b[0m\u001b[0mdatetime\u001b[0m\u001b[1;33m.\u001b[0m\u001b[0mnow\u001b[0m\u001b[1;33m(\u001b[0m\u001b[1;33m)\u001b[0m\u001b[1;33m.\u001b[0m\u001b[0mreplace\u001b[0m\u001b[1;33m(\u001b[0m\u001b[0mmicrosecond\u001b[0m\u001b[1;33m=\u001b[0m\u001b[1;36m0\u001b[0m\u001b[1;33m)\u001b[0m \u001b[1;33m+\u001b[0m \u001b[0mdatetime\u001b[0m\u001b[1;33m.\u001b[0m\u001b[0mtimedelta\u001b[0m\u001b[1;33m(\u001b[0m\u001b[0mminutes\u001b[0m \u001b[1;33m=\u001b[0m\u001b[0mi\u001b[0m\u001b[1;33m-\u001b[0m\u001b[1;36m1\u001b[0m\u001b[1;33m,\u001b[0m \u001b[0mseconds\u001b[0m\u001b[1;33m=\u001b[0m\u001b[1;36m30\u001b[0m\u001b[1;33m)\u001b[0m\u001b[1;33m)\u001b[0m \u001b[1;33m-\u001b[0m \u001b[0mdatetime\u001b[0m\u001b[1;33m.\u001b[0m\u001b[0mtimedelta\u001b[0m\u001b[1;33m(\u001b[0m\u001b[0mseconds\u001b[0m\u001b[1;33m=\u001b[0m\u001b[1;36m30\u001b[0m\u001b[1;33m)\u001b[0m\u001b[1;33m\u001b[0m\u001b[0m\n",
      "\u001b[1;31mTypeError\u001b[0m: unsupported operand type(s) for *: 'int' and 'datetime.datetime'"
     ]
    }
   ],
   "source": [
    "now = datetime.datetime.now().replace(microsecond=0)\n",
    "total_serving_time = datetime.datetime.now().replace(microsecond=0) + datetime.timedelta(minutes =1, seconds=30)\n",
    "print(str(now) + \" OrderPlaced\")\n",
    "print(str(total_serving_time)+\" total_serving_time\")\n",
    "i=2\n",
    "make2 = (i*(datetime.datetime.now().replace(microsecond=0) + datetime.timedelta(minutes =1, seconds=30))) - (datetime.datetime.now().replace(microsecond=0) + datetime.timedelta(minutes =1, seconds=30))\n",
    "print(str(make2) + \" make2\")\n",
    "serve2 = (datetime.datetime.now().replace(microsecond=0) + datetime.timedelta(minutes =i-1, seconds=30)) - datetime.timedelta(seconds=30)\n",
    "print(str(serve2) + \" serve2\")\n",
    "\n",
    "time = total_serving_time-now\n",
    "print(str(time)+\" total time\")\n",
    "time2 = time - datetime.timedelta(seconds=30)\n",
    "print(str(time2)+\" making time\")\n",
    "print(datetime.datetime.today().replace(microsecond=0))"
   ]
  },
  {
   "cell_type": "code",
   "execution_count": 128,
   "metadata": {},
   "outputs": [],
   "source": [
    "def orders_orig(param1):\n",
    "    now = 0\n",
    "    total = 90\n",
    "    print(str(now) + \"order\")\n",
    "    i=1\n",
    "    make = i*total - total\n",
    "    serve = i*total - 30\n",
    "    print(str(make)+\"make\"+str(i))        \n",
    "    print(str(serve)+\"serve\"+str(i))\n",
    "    i=i+1\n",
    "    while i < param1+1:\n",
    "        make = i*total - total\n",
    "        serve = i*total - 30\n",
    "        print(str(make)+\"make\"+str(i))\n",
    "        print(str(serve)+\"serve\"+str(i))\n",
    "        i=i+1\n",
    "    rest = (param1+1)*total - total\n",
    "    print(str(rest) + \"rest\")"
   ]
  },
  {
   "cell_type": "code",
   "execution_count": 129,
   "metadata": {},
   "outputs": [],
   "source": [
    "orders(3)"
   ]
  },
  {
   "cell_type": "code",
   "execution_count": 167,
   "metadata": {},
   "outputs": [],
   "source": [
    "def orders(param1):\n",
    "    i=1\n",
    "    now = 0\n",
    "    total = 90\n",
    "    #print(str(now) + \"order\")\n",
    "    lst = [now, str(param1) + \" sandwich orders placed\"]\n",
    "    seq_list.append(lst)\n",
    "    #i=1\n",
    "    #make = i*total - total\n",
    "    #serve = i*total - 30\n",
    "    #print(str(make)+\"make\"+str(i))\n",
    "    #seq_list.append([(i*total)-total, 'make sandwich ' +str(i)])\n",
    "   # print(str(serve)+\"serve\"+str(i))\n",
    "    #seq_list.append([(i*total)-30, 'serve sandwich ' +str(i)])\n",
    "    #i=i+1\n",
    "    while i < param1+1:\n",
    "        #make = i*total - total\n",
    "        #serve = i*total - 30\n",
    "        #print(str(make)+\"make\"+str(i))\n",
    "        seq_list.append([(i*total)-total, 'make sandwich ' +str(i)])\n",
    "        #print(str(serve)+\"serve\"+str(i))\n",
    "        seq_list.append([(i*total)-30, 'serve sandwich ' +str(i)])\n",
    "        i=i+1\n",
    "    rest = (param1+1)*total - total\n",
    "    #print(str(rest) + \"rest\")\n",
    "    seq_list.append([((param1+1)*total)-total, 'take a well earned break!'])"
   ]
  },
  {
   "cell_type": "markdown",
   "metadata": {},
   "source": [
    "# Demo\n"
   ]
  },
  {
   "cell_type": "code",
   "execution_count": 168,
   "metadata": {
    "scrolled": true
   },
   "outputs": [
    {
     "name": "stdout",
     "output_type": "stream",
     "text": [
      "[]\n"
     ]
    }
   ],
   "source": [
    "seq_list = []\n",
    "print(seq_list)"
   ]
  },
  {
   "cell_type": "code",
   "execution_count": 169,
   "metadata": {},
   "outputs": [],
   "source": [
    "orders(3)"
   ]
  },
  {
   "cell_type": "code",
   "execution_count": 170,
   "metadata": {},
   "outputs": [
    {
     "name": "stdout",
     "output_type": "stream",
     "text": [
      "[[0, '3 sandwich orders placed'], [0, 'make sandwich 1'], [60, 'serve sandwich 1'], [90, 'make sandwich 2'], [150, 'serve sandwich 2'], [180, 'make sandwich 3'], [240, 'serve sandwich 3'], [270, 'take a well earned break!']]\n"
     ]
    }
   ],
   "source": [
    "print_list(seq_list)"
   ]
  },
  {
   "cell_type": "code",
   "execution_count": 171,
   "metadata": {},
   "outputs": [],
   "source": [
    "seq_matrix = np.array(seq_list)"
   ]
  },
  {
   "cell_type": "code",
   "execution_count": 172,
   "metadata": {},
   "outputs": [
    {
     "data": {
      "text/plain": [
       "array([['0', '3 sandwich orders placed'],\n",
       "       ['0', 'make sandwich 1'],\n",
       "       ['60', 'serve sandwich 1'],\n",
       "       ['90', 'make sandwich 2'],\n",
       "       ['150', 'serve sandwich 2'],\n",
       "       ['180', 'make sandwich 3'],\n",
       "       ['240', 'serve sandwich 3'],\n",
       "       ['270', 'take a well earned break!']], dtype='<U25')"
      ]
     },
     "execution_count": 172,
     "metadata": {},
     "output_type": "execute_result"
    }
   ],
   "source": [
    "seq_matrix"
   ]
  },
  {
   "cell_type": "code",
   "execution_count": 166,
   "metadata": {},
   "outputs": [
    {
     "ename": "TypeError",
     "evalue": "only size-1 arrays can be converted to Python scalars",
     "output_type": "error",
     "traceback": [
      "\u001b[1;31m---------------------------------------------------------------------------\u001b[0m",
      "\u001b[1;31mTypeError\u001b[0m                                 Traceback (most recent call last)",
      "\u001b[1;32m<ipython-input-166-7cafb32c4a22>\u001b[0m in \u001b[0;36m<module>\u001b[1;34m()\u001b[0m\n\u001b[1;32m----> 1\u001b[1;33m \u001b[0mfloat\u001b[0m\u001b[1;33m(\u001b[0m\u001b[0mseq_matrix\u001b[0m\u001b[1;33m[\u001b[0m\u001b[1;33m:\u001b[0m\u001b[1;33m,\u001b[0m\u001b[1;36m0\u001b[0m\u001b[1;33m]\u001b[0m\u001b[1;33m)\u001b[0m\u001b[1;33m\u001b[0m\u001b[0m\n\u001b[0m",
      "\u001b[1;31mTypeError\u001b[0m: only size-1 arrays can be converted to Python scalars"
     ]
    }
   ],
   "source": [
    "float(seq_matrix[:,0])"
   ]
  },
  {
   "cell_type": "code",
   "execution_count": 115,
   "metadata": {},
   "outputs": [],
   "source": [
    "labels = ['time', 'order']\n"
   ]
  },
  {
   "cell_type": "code",
   "execution_count": 64,
   "metadata": {},
   "outputs": [
    {
     "ename": "ValueError",
     "evalue": "Length of passed values is 1, index implies 2",
     "output_type": "error",
     "traceback": [
      "\u001b[1;31m---------------------------------------------------------------------------\u001b[0m",
      "\u001b[1;31mValueError\u001b[0m                                Traceback (most recent call last)",
      "\u001b[1;32m<ipython-input-64-76f70e7c916b>\u001b[0m in \u001b[0;36m<module>\u001b[1;34m()\u001b[0m\n\u001b[1;32m----> 1\u001b[1;33m \u001b[0mpd\u001b[0m\u001b[1;33m.\u001b[0m\u001b[0mSeries\u001b[0m\u001b[1;33m(\u001b[0m\u001b[0mdata\u001b[0m\u001b[1;33m=\u001b[0m\u001b[0mseq_matrix\u001b[0m\u001b[1;33m,\u001b[0m\u001b[0mindex\u001b[0m\u001b[1;33m=\u001b[0m\u001b[0mlabels\u001b[0m\u001b[1;33m)\u001b[0m\u001b[1;33m\u001b[0m\u001b[0m\n\u001b[0m",
      "\u001b[1;32m~\\AppData\\Local\\Continuum\\anaconda3\\lib\\site-packages\\pandas\\core\\series.py\u001b[0m in \u001b[0;36m__init__\u001b[1;34m(self, data, index, dtype, name, copy, fastpath)\u001b[0m\n\u001b[0;32m    259\u001b[0m                             \u001b[1;34m'Length of passed values is {val}, '\u001b[0m\u001b[1;33m\u001b[0m\u001b[0m\n\u001b[0;32m    260\u001b[0m                             \u001b[1;34m'index implies {ind}'\u001b[0m\u001b[1;33m\u001b[0m\u001b[0m\n\u001b[1;32m--> 261\u001b[1;33m                             .format(val=len(data), ind=len(index)))\n\u001b[0m\u001b[0;32m    262\u001b[0m                 \u001b[1;32mexcept\u001b[0m \u001b[0mTypeError\u001b[0m\u001b[1;33m:\u001b[0m\u001b[1;33m\u001b[0m\u001b[0m\n\u001b[0;32m    263\u001b[0m                     \u001b[1;32mpass\u001b[0m\u001b[1;33m\u001b[0m\u001b[0m\n",
      "\u001b[1;31mValueError\u001b[0m: Length of passed values is 1, index implies 2"
     ]
    }
   ],
   "source": [
    "pd.Series(data=seq_matrix,index=labels)"
   ]
  },
  {
   "cell_type": "code",
   "execution_count": null,
   "metadata": {},
   "outputs": [],
   "source": [
    "[\"00:00\", \"Clocked in\"]"
   ]
  },
  {
   "cell_type": "markdown",
   "metadata": {},
   "source": [
    "# PythonTests using unittest"
   ]
  },
  {
   "cell_type": "code",
   "execution_count": 162,
   "metadata": {},
   "outputs": [
    {
     "data": {
      "text/plain": [
       "<function __main__.add_order(param1, param2)>"
      ]
     },
     "execution_count": 162,
     "metadata": {},
     "output_type": "execute_result"
    }
   ],
   "source": [
    "add_order"
   ]
  },
  {
   "cell_type": "code",
   "execution_count": 163,
   "metadata": {},
   "outputs": [
    {
     "data": {
      "text/plain": [
       "<function __main__.print_list(seq_list)>"
      ]
     },
     "execution_count": 163,
     "metadata": {},
     "output_type": "execute_result"
    }
   ],
   "source": [
    "print_list"
   ]
  },
  {
   "cell_type": "code",
   "execution_count": null,
   "metadata": {},
   "outputs": [],
   "source": [
    "import unittest\n",
    "\n",
    "class TestPrintList(unittest.TestCase):\n",
    "\n",
    "    def test_listsuceedes(self):\n",
    "        self.assertTrue('FOO'.isupper())\n",
    "        self.assertFalse('Foo'.isupper())\n"
   ]
  },
  {
   "cell_type": "code",
   "execution_count": null,
   "metadata": {},
   "outputs": [],
   "source": [
    "import unittest\n",
    "\n",
    "class TestStringMethods(unittest.TestCase):\n",
    "\n",
    "    def test_upper(self):\n",
    "        self.assertEqual('foo'.upper(), 'FOO')\n",
    "\n",
    "    def test_isupper(self):\n",
    "        self.assertTrue('FOO'.isupper())\n",
    "        self.assertFalse('Foo'.isupper())\n",
    "\n",
    "    def test_split(self):\n",
    "        s = 'hello world'\n",
    "        self.assertEqual(s.split(), ['hello', 'world'])\n",
    "        # check that s.split fails when the separator is not a string\n",
    "        with self.assertRaises(TypeError):\n",
    "            s.split(2)\n",
    "\n",
    "if __name__ == '__main__':\n",
    "    unittest.main()"
   ]
  }
 ],
 "metadata": {
  "kernelspec": {
   "display_name": "Python 3",
   "language": "python",
   "name": "python3"
  },
  "language_info": {
   "codemirror_mode": {
    "name": "ipython",
    "version": 3
   },
   "file_extension": ".py",
   "mimetype": "text/x-python",
   "name": "python",
   "nbconvert_exporter": "python",
   "pygments_lexer": "ipython3",
   "version": "3.6.5"
  }
 },
 "nbformat": 4,
 "nbformat_minor": 2
}
