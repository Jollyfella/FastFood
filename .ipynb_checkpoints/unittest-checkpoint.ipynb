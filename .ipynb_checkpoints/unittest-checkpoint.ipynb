{
 "cells": [
  {
   "cell_type": "code",
   "execution_count": 23,
   "metadata": {},
   "outputs": [
    {
     "name": "stderr",
     "output_type": "stream",
     "text": [
      "..\n",
      "----------------------------------------------------------------------\n",
      "Ran 2 tests in 0.000s\n",
      "\n",
      "OK\n"
     ]
    }
   ],
   "source": [
    "import unittest\n",
    "\n",
    "class Test_Schedule(unittest.TestCase):\n",
    "   \n",
    "    def setUp(self):\n",
    "        self.orders = 3\n",
    "        self.seq_list = ['rrer','rerer']\n",
    "        #self.time_format = '{:%H:%M:%S}'.format(datetime.datetime())\n",
    "        self.seq_matrix = [['00:00:00' 'orders placed']]\n",
    "        #self.df = pd.DataFrame(data=self.seq_matrix,)\n",
    "        \n",
    "    def test_orders(self):\n",
    "        self.assertIsInstance(self.orders, int, msg='orders should be an int dtype')\n",
    "        self.assertNotEqual(self.orders, 0, msg='number of orders placed should be greater than zero')\n",
    "        self.assertIsInstance(self.seq_list, list, msg='output of orders function should be a list')\n",
    "        #self.assertIsInstance(self.seq_list, datetime)\n",
    "        #self.assertIsInstance(self.seq_list(0,0) is datetime)     \n",
    "#trou   self.assertTrue(self.seq_matrix, [['{:%H:%M:%S}','orders placed']])\n",
    "        \n",
    "    def test_output_schedule_type(self):\n",
    "        # test list\n",
    "        self.assertTrue(type(self.seq_list) is list)\n",
    "        # test matrix\n",
    "# trou  self.assertTrue(self.seq_matrix,'<U25')\n",
    "        # test df\n",
    "        #self.assertTrue(types(self.df) is object)\n",
    "        \n",
    "if __name__ == '__main__':\n",
    "    unittest.main(argv=['first-arg-is-ignored'], exit=False)"
   ]
  },
  {
   "cell_type": "code",
   "execution_count": null,
   "metadata": {},
   "outputs": [],
   "source": []
  }
 ],
 "metadata": {
  "kernelspec": {
   "display_name": "Python 3",
   "language": "python",
   "name": "python3"
  },
  "language_info": {
   "codemirror_mode": {
    "name": "ipython",
    "version": 3
   },
   "file_extension": ".py",
   "mimetype": "text/x-python",
   "name": "python",
   "nbconvert_exporter": "python",
   "pygments_lexer": "ipython3",
   "version": "3.6.5"
  }
 },
 "nbformat": 4,
 "nbformat_minor": 2
}
